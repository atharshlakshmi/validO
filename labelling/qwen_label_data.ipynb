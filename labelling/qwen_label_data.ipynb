{
 "cells": [
  {
   "cell_type": "markdown",
   "id": "846cf234",
   "metadata": {},
   "source": [
    "### Import Required Packages"
   ]
  },
  {
   "cell_type": "code",
   "execution_count": 1,
   "id": "c03bc119",
   "metadata": {},
   "outputs": [
    {
     "name": "stderr",
     "output_type": "stream",
     "text": [
      "/Users/vaisiyabalakrishnan/techjam/.venv/lib/python3.13/site-packages/tqdm/auto.py:21: TqdmWarning: IProgress not found. Please update jupyter and ipywidgets. See https://ipywidgets.readthedocs.io/en/stable/user_install.html\n",
      "  from .autonotebook import tqdm as notebook_tqdm\n"
     ]
    }
   ],
   "source": [
    "import os\n",
    "from huggingface_hub import InferenceClient\n",
    "import pandas as pd"
   ]
  },
  {
   "cell_type": "markdown",
   "id": "14d5f3b1",
   "metadata": {},
   "source": [
    "### Initialize the Inference Client"
   ]
  },
  {
   "cell_type": "code",
   "execution_count": 2,
   "id": "b6b5ea20",
   "metadata": {},
   "outputs": [],
   "source": [
    "client = InferenceClient(\n",
    "    provider=\"nscale\",\n",
    "    api_key=os.environ[\"HF_TOKEN\"],\n",
    ")"
   ]
  },
  {
   "cell_type": "markdown",
   "id": "17d84107",
   "metadata": {},
   "source": [
    "### Few-shot Examples"
   ]
  },
  {
   "cell_type": "code",
   "execution_count": 3,
   "id": "859ffc0a",
   "metadata": {},
   "outputs": [],
   "source": [
    "FEW_SHOT_EXAMPLES = \"\"\"\n",
    "You are a system that classifies Google location reviews into one of four categories:\n",
    "- Ad: Promotional or advertisement content.\n",
    "- Rant: Angry or exaggerated complaints, often with excessive punctuation or all-caps.\n",
    "- Irrelevant: Not related to the location being reviewed.\n",
    "- Valid: A genuine and relevant review about the location.\n",
    "\n",
    "Examples:\n",
    "Review: \"Best pizza in town! Fresh ingredients and great service.\"\n",
    "Label: Valid\n",
    "\n",
    "Review: \"BUY ONE GET ONE FREE! Come to my shop now, limited offer!\"\n",
    "Label: Ad\n",
    "\n",
    "Review: \"THIS PLACE IS THE WORST!!! NEVER COMING BACK. HORRIBLE SERVICE!!!!!\"\n",
    "Label: Rant\n",
    "\n",
    "Review: \"I think the government is doing a terrible job with taxes.\"\n",
    "Label: Irrelevant\n",
    "\"\"\""
   ]
  },
  {
   "cell_type": "markdown",
   "id": "216c219e",
   "metadata": {},
   "source": [
    "### Batch Classification Prompt"
   ]
  },
  {
   "cell_type": "code",
   "execution_count": 4,
   "id": "40bf40b6",
   "metadata": {},
   "outputs": [],
   "source": [
    "def create_batch_prompt(reviews):\n",
    "    reviews_list = \"\\n\".join(\n",
    "        [f\"Review {i+1}: {r}\" for i, r in enumerate(reviews)]\n",
    "    )\n",
    "    return f\"\"\"{FEW_SHOT_EXAMPLES}\n",
    "    Now classify the following reviews:\n",
    "    {reviews_list}\n",
    "\n",
    "    Output format:\n",
    "    Review 1: <Label>\n",
    "    Review 2: <Label>\n",
    "    ...\n",
    "    \"\"\""
   ]
  },
  {
   "cell_type": "markdown",
   "id": "13b14130",
   "metadata": {},
   "source": [
    "### Classify Reviews in Batches"
   ]
  },
  {
   "cell_type": "code",
   "execution_count": 5,
   "id": "510e2113",
   "metadata": {},
   "outputs": [],
   "source": [
    "def classify_batch(reviews):\n",
    "    prompt = create_batch_prompt(reviews)\n",
    "    response = client.chat.completions.create(\n",
    "        model=\"Qwen/Qwen3-4B-Instruct-2507\",\n",
    "        messages=[{\"role\": \"user\", \"content\": prompt}],\n",
    "        temperature=0\n",
    "    )\n",
    "    return response.choices[0].message[\"content\"]"
   ]
  },
  {
   "cell_type": "markdown",
   "id": "e4c7271b",
   "metadata": {},
   "source": [
    "### Label Combined Dataset"
   ]
  },
  {
   "cell_type": "code",
   "execution_count": 6,
   "id": "214d8583",
   "metadata": {},
   "outputs": [],
   "source": [
    "def label_reviews(df, text_col=\"review_text\", batch_size=100, max_reviews=1000):\n",
    "    labeled = []\n",
    "    reviews = df[text_col].astype(str).tolist()[:max_reviews]\n",
    "    \n",
    "    for i in range(0, len(reviews), batch_size):\n",
    "        batch = reviews[i:i+batch_size]\n",
    "        output = classify_batch(batch)\n",
    "\n",
    "        # Parse output: expects \"Review 1: Valid\" style\n",
    "        for line in output.splitlines():\n",
    "            if line.strip() and line.startswith(\"Review\"):\n",
    "                try:\n",
    "                    idx, label = line.split(\":\", 1)\n",
    "                    labeled.append(label.strip())\n",
    "                except:\n",
    "                    labeled.append(\"Unknown\")\n",
    "        \n",
    "        print(f\"Processed {i+len(batch)} / {len(reviews)}\")\n",
    "    \n",
    "    df = df.iloc[:max_reviews].copy()\n",
    "    df[\"label\"] = labeled\n",
    "    return df"
   ]
  },
  {
   "cell_type": "markdown",
   "id": "ee931cd0",
   "metadata": {},
   "source": [
    "### Label Subset of Cleaned Combined Data (first 1000 reviews)"
   ]
  },
  {
   "cell_type": "code",
   "execution_count": null,
   "id": "2e6ca089",
   "metadata": {},
   "outputs": [
    {
     "name": "stdout",
     "output_type": "stream",
     "text": [
      "Processed 100 / 1000\n",
      "Processed 200 / 1000\n",
      "Processed 300 / 1000\n",
      "Processed 400 / 1000\n",
      "Processed 500 / 1000\n",
      "Processed 600 / 1000\n",
      "Processed 700 / 1000\n",
      "Processed 800 / 1000\n",
      "Processed 900 / 1000\n",
      "Processed 1000 / 1000\n"
     ]
    }
   ],
   "source": [
    "data_path = \"../data/clean/cleaned_combined_reviews.csv\"\n",
    "df = pd.read_csv(data_path)\n",
    "cleaned_df = df.copy()\n",
    "labeled_df = label_reviews(df)\n",
    "labeled_df.to_csv(\"../data/label/qwen_labelled_combined_reviews.csv\", index=False)"
   ]
  },
  {
   "cell_type": "code",
   "execution_count": 38,
   "id": "b74c460a",
   "metadata": {},
   "outputs": [
    {
     "data": {
      "text/html": [
       "<div>\n",
       "<style scoped>\n",
       "    .dataframe tbody tr th:only-of-type {\n",
       "        vertical-align: middle;\n",
       "    }\n",
       "\n",
       "    .dataframe tbody tr th {\n",
       "        vertical-align: top;\n",
       "    }\n",
       "\n",
       "    .dataframe thead th {\n",
       "        text-align: right;\n",
       "    }\n",
       "</style>\n",
       "<table border=\"1\" class=\"dataframe\">\n",
       "  <thead>\n",
       "    <tr style=\"text-align: right;\">\n",
       "      <th></th>\n",
       "      <th>user_name</th>\n",
       "      <th>review_text</th>\n",
       "      <th>rating</th>\n",
       "      <th>label</th>\n",
       "    </tr>\n",
       "  </thead>\n",
       "  <tbody>\n",
       "    <tr>\n",
       "      <th>0</th>\n",
       "      <td>Amber Thibeault</td>\n",
       "      <td>Andrea is amazing. Our dog loves her and she a...</td>\n",
       "      <td>5</td>\n",
       "      <td>Irrelevant</td>\n",
       "    </tr>\n",
       "    <tr>\n",
       "      <th>1</th>\n",
       "      <td>Esther</td>\n",
       "      <td>Andrea does a wonderful  job  with our wild Pr...</td>\n",
       "      <td>5</td>\n",
       "      <td>Irrelevant</td>\n",
       "    </tr>\n",
       "    <tr>\n",
       "      <th>2</th>\n",
       "      <td>Bob Barrett</td>\n",
       "      <td>Never called back</td>\n",
       "      <td>1</td>\n",
       "      <td>Rant</td>\n",
       "    </tr>\n",
       "    <tr>\n",
       "      <th>3</th>\n",
       "      <td>Luz Quiles</td>\n",
       "      <td>They don't answer the phones</td>\n",
       "      <td>3</td>\n",
       "      <td>Rant</td>\n",
       "    </tr>\n",
       "    <tr>\n",
       "      <th>4</th>\n",
       "      <td>Tim Sanderson</td>\n",
       "      <td>Limited information on the website</td>\n",
       "      <td>3</td>\n",
       "      <td>Irrelevant</td>\n",
       "    </tr>\n",
       "    <tr>\n",
       "      <th>5</th>\n",
       "      <td>Ellen Nastir</td>\n",
       "      <td>Leigh-Ann is an incredibly creative facilitato...</td>\n",
       "      <td>5</td>\n",
       "      <td>Valid</td>\n",
       "    </tr>\n",
       "    <tr>\n",
       "      <th>6</th>\n",
       "      <td>Jinnie Lee Schmid</td>\n",
       "      <td>Leigh Ann Rodgers is THE undisputed expert in ...</td>\n",
       "      <td>5</td>\n",
       "      <td>Valid</td>\n",
       "    </tr>\n",
       "    <tr>\n",
       "      <th>7</th>\n",
       "      <td>Wanda Walker</td>\n",
       "      <td>Leigh Ann Rodgers is a great collaborator and ...</td>\n",
       "      <td>5</td>\n",
       "      <td>Valid</td>\n",
       "    </tr>\n",
       "    <tr>\n",
       "      <th>8</th>\n",
       "      <td>Heather Clarke</td>\n",
       "      <td>I really appreciate all the wisdom and experie...</td>\n",
       "      <td>5</td>\n",
       "      <td>Valid</td>\n",
       "    </tr>\n",
       "    <tr>\n",
       "      <th>9</th>\n",
       "      <td>Cheryle Maurer</td>\n",
       "      <td>Leigh Ann’s masterful facilitation and engagem...</td>\n",
       "      <td>5</td>\n",
       "      <td>Valid</td>\n",
       "    </tr>\n",
       "  </tbody>\n",
       "</table>\n",
       "</div>"
      ],
      "text/plain": [
       "           user_name                                        review_text  \\\n",
       "0    Amber Thibeault  Andrea is amazing. Our dog loves her and she a...   \n",
       "1             Esther  Andrea does a wonderful  job  with our wild Pr...   \n",
       "2        Bob Barrett                                  Never called back   \n",
       "3         Luz Quiles                       They don't answer the phones   \n",
       "4      Tim Sanderson                 Limited information on the website   \n",
       "5       Ellen Nastir  Leigh-Ann is an incredibly creative facilitato...   \n",
       "6  Jinnie Lee Schmid  Leigh Ann Rodgers is THE undisputed expert in ...   \n",
       "7       Wanda Walker  Leigh Ann Rodgers is a great collaborator and ...   \n",
       "8     Heather Clarke  I really appreciate all the wisdom and experie...   \n",
       "9     Cheryle Maurer  Leigh Ann’s masterful facilitation and engagem...   \n",
       "\n",
       "   rating       label  \n",
       "0       5  Irrelevant  \n",
       "1       5  Irrelevant  \n",
       "2       1        Rant  \n",
       "3       3        Rant  \n",
       "4       3  Irrelevant  \n",
       "5       5       Valid  \n",
       "6       5       Valid  \n",
       "7       5       Valid  \n",
       "8       5       Valid  \n",
       "9       5       Valid  "
      ]
     },
     "execution_count": 38,
     "metadata": {},
     "output_type": "execute_result"
    }
   ],
   "source": [
    "labeled_df.head(10)"
   ]
  }
 ],
 "metadata": {
  "kernelspec": {
   "display_name": ".venv (3.13.3)",
   "language": "python",
   "name": "python3"
  },
  "language_info": {
   "codemirror_mode": {
    "name": "ipython",
    "version": 3
   },
   "file_extension": ".py",
   "mimetype": "text/x-python",
   "name": "python",
   "nbconvert_exporter": "python",
   "pygments_lexer": "ipython3",
   "version": "3.13.3"
  }
 },
 "nbformat": 4,
 "nbformat_minor": 5
}
